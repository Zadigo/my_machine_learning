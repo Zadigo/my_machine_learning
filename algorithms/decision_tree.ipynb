{
 "nbformat": 4,
 "nbformat_minor": 2,
 "metadata": {
  "language_info": {
   "name": "python",
   "codemirror_mode": {
    "name": "ipython",
    "version": 3
   },
   "version": "3.8.2-final"
  },
  "orig_nbformat": 2,
  "file_extension": ".py",
  "mimetype": "text/x-python",
  "name": "python",
  "npconvert_exporter": "python",
  "pygments_lexer": "ipython3",
  "version": 3,
  "kernelspec": {
   "name": "python38264bitf0ceb5a79d6c453ba42cf1b0e66b42d2",
   "display_name": "Python 3.8.2 64-bit"
  }
 },
 "cells": [
  {
   "cell_type": "code",
   "execution_count": 178,
   "metadata": {},
   "outputs": [],
   "source": [
    "from sklearn.tree import DecisionTreeClassifier\n",
    "from sklearn.tree import export_graphviz\n",
    "import os\n",
    "import pandas\n",
    "from sklearn import metrics\n",
    "from sklearn.model_selection import train_test_split\n",
    "from matplotlib import pyplot\n",
    "import numpy"
   ]
  },
  {
   "cell_type": "code",
   "execution_count": 179,
   "metadata": {},
   "outputs": [],
   "source": [
    "path = os.path.dirname(os.path.dirname(os.path.abspath(__name__)))\n",
    "data_path = os.path.join(path, 'data')\n",
    "\n",
    "def explorer(name):\n",
    "    name = name + '.csv'\n",
    "    path = os.path.join(data_path, name)\n",
    "    return path if os.path.exists(path) else None"
   ]
  },
  {
   "cell_type": "code",
   "execution_count": 180,
   "metadata": {},
   "outputs": [],
   "source": [
    "data = pandas.read_csv(explorer('combined'))\n",
    "columns = ['height', 'weight', 'spike', 'block', 'position_number']\n",
    "players = pandas.DataFrame(data=data, columns=columns)"
   ]
  },
  {
   "cell_type": "code",
   "execution_count": 181,
   "metadata": {},
   "outputs": [
    {
     "output_type": "execute_result",
     "data": {
      "text/plain": "     height  weight  spike  block  position_number  classification\n0       173      69    268    260                3               2\n1       180      70    285    275                3               2\n2       182      69    283    273                3               2\n3       184      74    294    282                2               2\n4       181      60    290    272                2               2\n..      ...     ...    ...    ...              ...             ...\n399     190      66    296    287                4               2\n400     176      54    280    279                6               1\n401     194      82    309    255                3               2\n402     181      73    287    280                1               2\n403     179      68    289    280                1               2\n\n[404 rows x 6 columns]",
      "text/html": "<div>\n<style scoped>\n    .dataframe tbody tr th:only-of-type {\n        vertical-align: middle;\n    }\n\n    .dataframe tbody tr th {\n        vertical-align: top;\n    }\n\n    .dataframe thead th {\n        text-align: right;\n    }\n</style>\n<table border=\"1\" class=\"dataframe\">\n  <thead>\n    <tr style=\"text-align: right;\">\n      <th></th>\n      <th>height</th>\n      <th>weight</th>\n      <th>spike</th>\n      <th>block</th>\n      <th>position_number</th>\n      <th>classification</th>\n    </tr>\n  </thead>\n  <tbody>\n    <tr>\n      <th>0</th>\n      <td>173</td>\n      <td>69</td>\n      <td>268</td>\n      <td>260</td>\n      <td>3</td>\n      <td>2</td>\n    </tr>\n    <tr>\n      <th>1</th>\n      <td>180</td>\n      <td>70</td>\n      <td>285</td>\n      <td>275</td>\n      <td>3</td>\n      <td>2</td>\n    </tr>\n    <tr>\n      <th>2</th>\n      <td>182</td>\n      <td>69</td>\n      <td>283</td>\n      <td>273</td>\n      <td>3</td>\n      <td>2</td>\n    </tr>\n    <tr>\n      <th>3</th>\n      <td>184</td>\n      <td>74</td>\n      <td>294</td>\n      <td>282</td>\n      <td>2</td>\n      <td>2</td>\n    </tr>\n    <tr>\n      <th>4</th>\n      <td>181</td>\n      <td>60</td>\n      <td>290</td>\n      <td>272</td>\n      <td>2</td>\n      <td>2</td>\n    </tr>\n    <tr>\n      <th>...</th>\n      <td>...</td>\n      <td>...</td>\n      <td>...</td>\n      <td>...</td>\n      <td>...</td>\n      <td>...</td>\n    </tr>\n    <tr>\n      <th>399</th>\n      <td>190</td>\n      <td>66</td>\n      <td>296</td>\n      <td>287</td>\n      <td>4</td>\n      <td>2</td>\n    </tr>\n    <tr>\n      <th>400</th>\n      <td>176</td>\n      <td>54</td>\n      <td>280</td>\n      <td>279</td>\n      <td>6</td>\n      <td>1</td>\n    </tr>\n    <tr>\n      <th>401</th>\n      <td>194</td>\n      <td>82</td>\n      <td>309</td>\n      <td>255</td>\n      <td>3</td>\n      <td>2</td>\n    </tr>\n    <tr>\n      <th>402</th>\n      <td>181</td>\n      <td>73</td>\n      <td>287</td>\n      <td>280</td>\n      <td>1</td>\n      <td>2</td>\n    </tr>\n    <tr>\n      <th>403</th>\n      <td>179</td>\n      <td>68</td>\n      <td>289</td>\n      <td>280</td>\n      <td>1</td>\n      <td>2</td>\n    </tr>\n  </tbody>\n</table>\n<p>404 rows × 6 columns</p>\n</div>"
     },
     "metadata": {},
     "execution_count": 181
    }
   ],
   "source": [
    "def classify_players(position):\n",
    "    # Separate players between\n",
    "    # attacking, defensive\n",
    "    # and mixed\n",
    "    if position == 6:\n",
    "        return 1\n",
    "    else:\n",
    "        return 2\n",
    "players['classification'] = players['position_number'].apply(classify_players)\n",
    "players"
   ]
  },
  {
   "cell_type": "code",
   "execution_count": 193,
   "metadata": {},
   "outputs": [
    {
     "output_type": "execute_result",
     "data": {
      "text/plain": "classification\n1     45\n2    359\nName: height, dtype: int64"
     },
     "metadata": {},
     "execution_count": 193
    }
   ],
   "source": [
    "players.groupby(['classification'])['height'].count()"
   ]
  },
  {
   "cell_type": "code",
   "execution_count": 197,
   "metadata": {},
   "outputs": [
    {
     "output_type": "execute_result",
     "data": {
      "text/plain": "           height     weight       spike       block  position_number  \\\ncount   45.000000  45.000000   45.000000   45.000000             45.0   \nmean   170.266667  61.111111  272.622222  261.688889              6.0   \nstd      6.228235   6.912512   18.700132   20.691261              0.0   \nmin    150.000000  51.000000  198.000000  190.000000              6.0   \n25%    166.000000  56.000000  268.000000  255.000000              6.0   \n50%    170.000000  60.000000  274.000000  265.000000              6.0   \n75%    175.000000  65.000000  285.000000  274.000000              6.0   \nmax    180.000000  79.000000  302.000000  291.000000              6.0   \n\n       classification  \ncount            45.0  \nmean              1.0  \nstd               0.0  \nmin               1.0  \n25%               1.0  \n50%               1.0  \n75%               1.0  \nmax               1.0  ",
      "text/html": "<div>\n<style scoped>\n    .dataframe tbody tr th:only-of-type {\n        vertical-align: middle;\n    }\n\n    .dataframe tbody tr th {\n        vertical-align: top;\n    }\n\n    .dataframe thead th {\n        text-align: right;\n    }\n</style>\n<table border=\"1\" class=\"dataframe\">\n  <thead>\n    <tr style=\"text-align: right;\">\n      <th></th>\n      <th>height</th>\n      <th>weight</th>\n      <th>spike</th>\n      <th>block</th>\n      <th>position_number</th>\n      <th>classification</th>\n    </tr>\n  </thead>\n  <tbody>\n    <tr>\n      <th>count</th>\n      <td>45.000000</td>\n      <td>45.000000</td>\n      <td>45.000000</td>\n      <td>45.000000</td>\n      <td>45.0</td>\n      <td>45.0</td>\n    </tr>\n    <tr>\n      <th>mean</th>\n      <td>170.266667</td>\n      <td>61.111111</td>\n      <td>272.622222</td>\n      <td>261.688889</td>\n      <td>6.0</td>\n      <td>1.0</td>\n    </tr>\n    <tr>\n      <th>std</th>\n      <td>6.228235</td>\n      <td>6.912512</td>\n      <td>18.700132</td>\n      <td>20.691261</td>\n      <td>0.0</td>\n      <td>0.0</td>\n    </tr>\n    <tr>\n      <th>min</th>\n      <td>150.000000</td>\n      <td>51.000000</td>\n      <td>198.000000</td>\n      <td>190.000000</td>\n      <td>6.0</td>\n      <td>1.0</td>\n    </tr>\n    <tr>\n      <th>25%</th>\n      <td>166.000000</td>\n      <td>56.000000</td>\n      <td>268.000000</td>\n      <td>255.000000</td>\n      <td>6.0</td>\n      <td>1.0</td>\n    </tr>\n    <tr>\n      <th>50%</th>\n      <td>170.000000</td>\n      <td>60.000000</td>\n      <td>274.000000</td>\n      <td>265.000000</td>\n      <td>6.0</td>\n      <td>1.0</td>\n    </tr>\n    <tr>\n      <th>75%</th>\n      <td>175.000000</td>\n      <td>65.000000</td>\n      <td>285.000000</td>\n      <td>274.000000</td>\n      <td>6.0</td>\n      <td>1.0</td>\n    </tr>\n    <tr>\n      <th>max</th>\n      <td>180.000000</td>\n      <td>79.000000</td>\n      <td>302.000000</td>\n      <td>291.000000</td>\n      <td>6.0</td>\n      <td>1.0</td>\n    </tr>\n  </tbody>\n</table>\n</div>"
     },
     "metadata": {},
     "execution_count": 197
    }
   ],
   "source": [
    "players[players['classification'] == 1].describe()"
   ]
  },
  {
   "cell_type": "code",
   "execution_count": 182,
   "metadata": {},
   "outputs": [],
   "source": [
    "X = players[['height']]\n",
    "y = players['classification']"
   ]
  },
  {
   "cell_type": "code",
   "execution_count": 183,
   "metadata": {},
   "outputs": [],
   "source": [
    "X_train, X_test, y_train, y_test = train_test_split(X, y, test_size=0.25)"
   ]
  },
  {
   "cell_type": "code",
   "execution_count": 184,
   "metadata": {},
   "outputs": [
    {
     "output_type": "execute_result",
     "data": {
      "text/plain": "DecisionTreeClassifier(ccp_alpha=0.0, class_weight=None, criterion='gini',\n                       max_depth=5, max_features=None, max_leaf_nodes=None,\n                       min_impurity_decrease=0.0, min_impurity_split=None,\n                       min_samples_leaf=1, min_samples_split=2,\n                       min_weight_fraction_leaf=0.0, presort='deprecated',\n                       random_state=50, splitter='best')"
     },
     "metadata": {},
     "execution_count": 184
    }
   ],
   "source": [
    "model = DecisionTreeClassifier(criterion='gini', max_depth=5, random_state=50)\n",
    "model.fit(X_train, y_train)"
   ]
  },
  {
   "cell_type": "code",
   "execution_count": 185,
   "metadata": {},
   "outputs": [
    {
     "output_type": "execute_result",
     "data": {
      "text/plain": "array([2, 2, 2, 2, 2], dtype=int64)"
     },
     "metadata": {},
     "execution_count": 185
    }
   ],
   "source": [
    "predictions = model.predict(X_test)\n",
    "predictions[:5]"
   ]
  },
  {
   "cell_type": "code",
   "execution_count": 186,
   "metadata": {},
   "outputs": [
    {
     "output_type": "stream",
     "name": "stdout",
     "text": "The percentage of correct predictions we got right is 0.921\n"
    }
   ],
   "source": [
    "# number of correct predictions / total number of predictions\n",
    "score = model.score(X_train, y_train)\n",
    "print('The percentage of correct predictions we got right is %.3f' % score)"
   ]
  },
  {
   "cell_type": "code",
   "execution_count": 187,
   "metadata": {},
   "outputs": [
    {
     "output_type": "execute_result",
     "data": {
      "text/plain": "0.8811881188118812"
     },
     "metadata": {},
     "execution_count": 187
    }
   ],
   "source": [
    "metrics.accuracy_score(y_test, predictions)"
   ]
  },
  {
   "cell_type": "code",
   "execution_count": 188,
   "metadata": {},
   "outputs": [
    {
     "output_type": "stream",
     "name": "stdout",
     "text": "Confusion matrix: [[ 0 12]\n [ 0 89]]\nPrecision score: 0.776492500735222\nRecall score: 0.8811881188118812\nF1 score is 0.8255341323606045\nFBeta score: 0.0\n"
    }
   ],
   "source": [
    "# Understand what errors the model is making by\n",
    "# displaying true positives and false positives\n",
    "confusion_matrix = metrics.confusion_matrix(y_test, predictions)\n",
    "print('Confusion matrix: %s' % confusion_matrix)\n",
    "# true positives / true positives + false positives\n",
    "precision_score = metrics.precision_score(y_test, predictions, average='weighted')\n",
    "print('Precision score: %s' % precision_score)\n",
    "# true positives / true positives + false negatives\n",
    "recall_score = metrics.recall_score(y_test, predictions, average='weighted')\n",
    "print('Recall score: %s' % recall_score)\n",
    "# Combines both precision_score and recall_score\n",
    "# in an average\n",
    "f1score = metrics.f1_score(y_test, predictions, average='weighted')\n",
    "print('F1 score is %s' % f1score)\n",
    "\n",
    "fbeta = metrics.fbeta_score(y_test, predictions, 1)\n",
    "print('FBeta score: %s' % fbeta)\n",
    "# metrics.matthews_corrcoef(y_test, predictions)"
   ]
  },
  {
   "cell_type": "code",
   "execution_count": 189,
   "metadata": {},
   "outputs": [
    {
     "output_type": "stream",
     "name": "stdout",
     "text": "The player is a(n) attacking player.\n"
    }
   ],
   "source": [
    "observation = [[205]]\n",
    "prediction = model.predict(observation)\n",
    "if prediction[0] == 1:\n",
    "    player_type = 'defensive'\n",
    "else:\n",
    "    player_type = 'attacking'\n",
    "print(f'The player is a(n) {player_type} player.')"
   ]
  },
  {
   "cell_type": "code",
   "execution_count": 134,
   "metadata": {},
   "outputs": [
    {
     "output_type": "execute_result",
     "data": {
      "text/plain": "<404x47 sparse matrix of type '<class 'numpy.int64'>'\n\twith 2361 stored elements in Compressed Sparse Row format>"
     },
     "metadata": {},
     "execution_count": 134
    }
   ],
   "source": [
    "model.decision_path(X)"
   ]
  },
  {
   "cell_type": "code",
   "execution_count": 190,
   "metadata": {},
   "outputs": [],
   "source": [
    "export_graphviz(model, out_file='tree')"
   ]
  },
  {
   "cell_type": "code",
   "execution_count": null,
   "metadata": {},
   "outputs": [],
   "source": []
  }
 ]
}