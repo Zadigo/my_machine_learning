{
 "nbformat": 4,
 "nbformat_minor": 2,
 "metadata": {
  "language_info": {
   "name": "python",
   "codemirror_mode": {
    "name": "ipython",
    "version": 3
   },
   "version": "3.8.2-final"
  },
  "orig_nbformat": 2,
  "file_extension": ".py",
  "mimetype": "text/x-python",
  "name": "python",
  "npconvert_exporter": "python",
  "pygments_lexer": "ipython3",
  "version": 3,
  "kernelspec": {
   "name": "python38032bit9a7ae040455e48bc988de4b438492373",
   "display_name": "Python 3.8.0 32-bit"
  }
 },
 "cells": [
  {
   "cell_type": "code",
   "execution_count": 27,
   "metadata": {},
   "outputs": [],
   "source": [
    "from sklearn import metrics\n",
    "from sklearn.model_selection import train_test_split\n",
    "from sklearn.linear_model import Perceptron\n",
    "import pandas"
   ]
  },
  {
   "cell_type": "code",
   "execution_count": 48,
   "metadata": {},
   "outputs": [],
   "source": [
    "data = pandas.read_csv('C:\\\\Users\\\\Pende\\\\Documents\\\\myapps\\\\my_machine_learning\\\\data\\\\japan_2018_fixed.csv')"
   ]
  },
  {
   "cell_type": "code",
   "execution_count": 49,
   "metadata": {},
   "outputs": [],
   "source": [
    "df = pandas.DataFrame(data=data, columns=['height', 'weight', 'spike', 'block'])"
   ]
  },
  {
   "cell_type": "code",
   "execution_count": 50,
   "metadata": {},
   "outputs": [],
   "source": [
    "X = df[['height', 'weight']]\n",
    "y = df['spike']"
   ]
  },
  {
   "cell_type": "code",
   "execution_count": 51,
   "metadata": {},
   "outputs": [],
   "source": [
    "X_train, X_test, y_train, y_test = train_test_split(X, y, test_size=0.25)"
   ]
  },
  {
   "cell_type": "code",
   "execution_count": 52,
   "metadata": {},
   "outputs": [
    {
     "output_type": "execute_result",
     "data": {
      "text/plain": "Perceptron(alpha=0.0001, class_weight=None, early_stopping=False, eta0=1.0,\n           fit_intercept=True, max_iter=1000, n_iter_no_change=5, n_jobs=None,\n           penalty=None, random_state=0, shuffle=True, tol=0.001,\n           validation_fraction=0.1, verbose=0, warm_start=False)"
     },
     "metadata": {},
     "execution_count": 52
    }
   ],
   "source": [
    "model = Perceptron()\n",
    "model.fit(X_train, y_train)"
   ]
  },
  {
   "cell_type": "code",
   "execution_count": 53,
   "metadata": {},
   "outputs": [
    {
     "output_type": "stream",
     "name": "stdout",
     "text": "If the player height is 175 then her spike would be 283.0\n"
    }
   ],
   "source": [
    "observation = [[175, 56]]\n",
    "prediction = model.predict(observation)\n",
    "\n",
    "print('If the player height is %s then her spike would be %s' % (observation[0][0], round(prediction[0], 1)))"
   ]
  },
  {
   "cell_type": "code",
   "execution_count": 54,
   "metadata": {},
   "outputs": [],
   "source": [
    "predictions = model.predict(X_test)"
   ]
  },
  {
   "cell_type": "code",
   "execution_count": 55,
   "metadata": {},
   "outputs": [
    {
     "output_type": "execute_result",
     "data": {
      "text/plain": "array([283., 283.])"
     },
     "metadata": {},
     "execution_count": 55
    }
   ],
   "source": [
    "predictions[:2]"
   ]
  },
  {
   "cell_type": "code",
   "execution_count": 56,
   "metadata": {},
   "outputs": [
    {
     "output_type": "stream",
     "name": "stdout",
     "text": "The accuracy score is 0.0\n"
    }
   ],
   "source": [
    "accuracy = metrics.accuracy_score(y_test, predictions)\n",
    "print('The accuracy score is %s' % accuracy)"
   ]
  },
  {
   "cell_type": "code",
   "execution_count": 57,
   "metadata": {},
   "outputs": [
    {
     "output_type": "stream",
     "name": "stdout",
     "text": "The nummber of values to shift to obtain a correct prediction is 1.0\n"
    }
   ],
   "source": [
    "loss = metrics.hamming_loss(y_test, predictions)\n",
    "print('The nummber of values to shift to obtain a correct prediction is %s' % loss)"
   ]
  },
  {
   "cell_type": "code",
   "execution_count": 61,
   "metadata": {},
   "outputs": [
    {
     "output_type": "stream",
     "name": "stdout",
     "text": "The model score is 0.0\n"
    }
   ],
   "source": [
    "score = model.score(X_test, y_test)\n",
    "print('The model score is %s' % score)"
   ]
  },
  {
   "cell_type": "code",
   "execution_count": 62,
   "metadata": {},
   "outputs": [
    {
     "output_type": "stream",
     "name": "stdout",
     "text": "The percentage at which the data fits the model is: -0.8306298291173735\n"
    }
   ],
   "source": [
    "s = metrics.r2_score(y_test, predictions)\n",
    "print('The percentage at which the data fits the model is: %s' % s)"
   ]
  },
  {
   "cell_type": "code",
   "execution_count": 63,
   "metadata": {},
   "outputs": [],
   "source": [
    "# Saving the model\n",
    "import pickle\n",
    "\n",
    "with open('perceptron.sav', 'wb') as m:\n",
    "    pickle.dump(model, m)"
   ]
  },
  {
   "cell_type": "code",
   "execution_count": 66,
   "metadata": {},
   "outputs": [
    {
     "output_type": "execute_result",
     "data": {
      "text/plain": "array([283.])"
     },
     "metadata": {},
     "execution_count": 66
    }
   ],
   "source": [
    "with open('perceptron.sav', 'rb') as m:\n",
    "    loaded_model = pickle.load(m)\n",
    "\n",
    "loaded_model.predict([[196, 78]])"
   ]
  },
  {
   "cell_type": "code",
   "execution_count": null,
   "metadata": {},
   "outputs": [],
   "source": []
  }
 ]
}